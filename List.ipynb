{
  "nbformat": 4,
  "nbformat_minor": 0,
  "metadata": {
    "colab": {
      "provenance": [],
      "authorship_tag": "ABX9TyOF2JkX45/R/FE4hE7nbAXS",
      "include_colab_link": true
    },
    "kernelspec": {
      "name": "python3",
      "display_name": "Python 3"
    },
    "language_info": {
      "name": "python"
    }
  },
  "cells": [
    {
      "cell_type": "markdown",
      "metadata": {
        "id": "view-in-github",
        "colab_type": "text"
      },
      "source": [
        "<a href=\"https://colab.research.google.com/github/mthasneem/DSA_python/blob/main/List.ipynb\" target=\"_parent\"><img src=\"https://colab.research.google.com/assets/colab-badge.svg\" alt=\"Open In Colab\"/></a>"
      ]
    },
    {
      "cell_type": "code",
      "source": [
        "# Declare a dictionary\n",
        "dict = {'Name': 'Zara', 'Age': 7, 'Class': 'First'}\n",
        "\n",
        "# Accessing the dictionary with its key\n",
        "print (\"dict['Name']: \", dict['Name'])\n",
        "print (\"dict['Age']: \", dict['Age'])"
      ],
      "metadata": {
        "colab": {
          "base_uri": "https://localhost:8080/"
        },
        "id": "EQnYj0kh4ylV",
        "outputId": "c18e9c07-0eab-4247-ca22-8bd710791b25"
      },
      "execution_count": null,
      "outputs": [
        {
          "output_type": "stream",
          "name": "stdout",
          "text": [
            "dict['Name']:  Zara\n",
            "dict['Age']:  7\n"
          ]
        }
      ]
    },
    {
      "cell_type": "code",
      "execution_count": null,
      "metadata": {
        "colab": {
          "base_uri": "https://localhost:8080/"
        },
        "id": "4V6olpQh4c20",
        "outputId": "8906d5f6-01db-4c4e-bc28-f2b5fafd9343"
      },
      "outputs": [
        {
          "output_type": "stream",
          "name": "stdout",
          "text": [
            "dict['Age']:  dict['Age']\n",
            "dict['School']:  dict['School']\n"
          ]
        }
      ],
      "source": [
        "dict = {'Name': 'Zara', 'Age': 7, 'Class': 'First'}\n",
        "del dict['Name']; # remove entry with key 'Name'\n",
        "dict.clear();     # remove all entries in dict\n",
        "del dict ;        # delete entire dictionary\n",
        "\n",
        "print (\"dict['Age']: \", dict['Age'])\n",
        "print (\"dict['School']: \", dict['School'])"
      ]
    },
    {
      "cell_type": "code",
      "source": [
        "# This function checks if all characters in a string are unique.\n",
        "def are_characters_unique(string):\n",
        "\n",
        "    n = len(string)\n",
        "    for i in range(n):\n",
        "        for j in range(i + 1, n):\n",
        "            if string[i] == string[j]:\n",
        "                return False\n",
        "    return True\n",
        "\n",
        "\n",
        "if __name__ == '__main__':\n",
        "    s = \"aaabbccdaa\"\n",
        "    if are_characters_unique(s):\n",
        "        print(\"Yes\")\n",
        "    else:\n",
        "        print(\"No\")"
      ],
      "metadata": {
        "colab": {
          "base_uri": "https://localhost:8080/"
        },
        "id": "pVvmtSKp8yYZ",
        "outputId": "644b46bc-af51-45c8-b82f-5dda3be0fe5d"
      },
      "execution_count": null,
      "outputs": [
        {
          "output_type": "stream",
          "name": "stdout",
          "text": [
            "No\n"
          ]
        }
      ]
    },
    {
      "cell_type": "code",
      "source": [
        "# A space efficient Python3 program to check if\n",
        "# all characters of string are unique\n",
        "\n",
        "# Returns true if all characters of str are\n",
        "# unique.\n",
        "# Assumptions : (1) str contains only characters\n",
        "#                    from 'a' to 'z'\n",
        "#                (2) integers are stored using 32\n",
        "#                    bits\n",
        "\n",
        "def areCharactersUnique(s):\n",
        "\n",
        "    # An integer to store presence/absence\n",
        "    # of 26 characters using its 32 bits\n",
        "    checker = 0\n",
        "\n",
        "    for i in range(len(s)):\n",
        "\n",
        "        val = ord(s[i]) - ord('a')\n",
        "\n",
        "        # If bit corresponding to current\n",
        "        # character is already set\n",
        "        if (checker & (1 << val)) > 0:\n",
        "            return False\n",
        "\n",
        "        # set bit in checker\n",
        "        checker |= (1 << val)\n",
        "\n",
        "    return True\n",
        "\n",
        "# Driver code\n",
        "s = \"aaabbccdaa\"\n",
        "if areCharactersUnique(s):\n",
        "    print(\"Yes\")\n",
        "else:\n",
        "    print(\"No\")\n"
      ],
      "metadata": {
        "colab": {
          "base_uri": "https://localhost:8080/"
        },
        "id": "LW8kG_pC9pWz",
        "outputId": "78eec8d1-8af6-479b-9b00-72e41533bdf6"
      },
      "execution_count": null,
      "outputs": [
        {
          "output_type": "stream",
          "name": "stdout",
          "text": [
            "No\n"
          ]
        }
      ]
    }
  ]
}